{
 "cells": [
  {
   "cell_type": "code",
   "execution_count": 1,
   "metadata": {
    "executionInfo": {
     "elapsed": 308,
     "status": "ok",
     "timestamp": 1636197155140,
     "user": {
      "displayName": "Anh Lê tuấn",
      "photoUrl": "https://lh3.googleusercontent.com/a/default-user=s64",
      "userId": "03904397481365204335"
     },
     "user_tz": -420
    },
    "id": "IFyNgF10pM8O"
   },
   "outputs": [],
   "source": [
    "from vocab import Vocab\n",
    "import utils\n",
    "from sc_model import SC\n",
    "import torch.nn as nn\n",
    "import torch \n",
    "from nltk import word_tokenize"
   ]
  },
  {
   "cell_type": "code",
   "execution_count": 2,
   "metadata": {
    "colab": {
     "base_uri": "https://localhost:8080/"
    },
    "executionInfo": {
     "elapsed": 371471,
     "status": "ok",
     "timestamp": 1636193526284,
     "user": {
      "displayName": "Anh Lê tuấn",
      "photoUrl": "https://lh3.googleusercontent.com/a/default-user=s64",
      "userId": "03904397481365204335"
     },
     "user_tz": -420
    },
    "id": "4xPTAca8pYrT",
    "outputId": "1788dd33-db7d-467f-cf28-54a32b57dac7"
   },
   "outputs": [],
   "source": [
    "# VocabEntry = Vocab.from_corpus(\"data_raw.txt\", 50000, freq_cutoff=5)"
   ]
  },
  {
   "cell_type": "code",
   "execution_count": 3,
   "metadata": {
    "id": "M5QbxbCjtQpm"
   },
   "outputs": [],
   "source": [
    "# model = SC(num_layers = 4, d_model =512, nhead = 16, hidden_dim = 256 , vocab = VocabEntry)"
   ]
  },
  {
   "cell_type": "code",
   "execution_count": 3,
   "metadata": {
    "executionInfo": {
     "elapsed": 775,
     "status": "ok",
     "timestamp": 1636197158430,
     "user": {
      "displayName": "Anh Lê tuấn",
      "photoUrl": "https://lh3.googleusercontent.com/a/default-user=s64",
      "userId": "03904397481365204335"
     },
     "user_tz": -420
    },
    "id": "VVlMp55dBbSZ"
   },
   "outputs": [],
   "source": [
    "# model.save(\"model.bin\")\n",
    "model = SC.load(\"model1.bin\").cuda()"
   ]
  },
  {
   "cell_type": "code",
   "execution_count": 4,
   "metadata": {
    "colab": {
     "base_uri": "https://localhost:8080/"
    },
    "executionInfo": {
     "elapsed": 9,
     "status": "ok",
     "timestamp": 1636197731946,
     "user": {
      "displayName": "Anh Lê tuấn",
      "photoUrl": "https://lh3.googleusercontent.com/a/default-user=s64",
      "userId": "03904397481365204335"
     },
     "user_tz": -420
    },
    "id": "i5p9wuUuqC7m",
    "outputId": "bdb49128-083a-49b9-d8e0-77eca8cd8422"
   },
   "outputs": [
    {
     "name": "stdout",
     "output_type": "stream",
     "text": [
      "Từ bị sai :\n",
      "tạy\n",
      "khátr\n",
      "bắk\n"
     ]
    }
   ],
   "source": [
    "x = \"những người biểu tình đập phá trạm xe điện tạy sa điền và một khátr sạn bị cho là liên quan tới bắk kinh \"\n",
    "x = [word_tokenize(x)]\n",
    "def check(x):\n",
    "    y = model(x)\n",
    "    y = torch.round(y[0])\n",
    "    print(\"Từ bị sai :\")\n",
    "    for i in range(len(y)):\n",
    "        if y[i] == 1:\n",
    "            print(x[0][i])\n",
    "check(x)"
   ]
  },
  {
   "cell_type": "code",
   "execution_count": 2,
   "metadata": {
    "id": "7JqVEK2w0H4c"
   },
   "outputs": [],
   "source": [
    "data_train = []\n",
    "# k= 0\n",
    "for line in open(\"data_train.txt\", encoding=\"utf8\"):\n",
    "    data_train.append(line.strip().lower())\n",
    "  # k+= 1\n",
    "  # if k == 30000:\n",
    "  #   break"
   ]
  },
  {
   "cell_type": "code",
   "execution_count": null,
   "metadata": {
    "id": "h3n40-ExPCEJ"
   },
   "outputs": [],
   "source": [
    "# train\n",
    "# f = open('30000_data.txt', 'w')\n",
    "\n",
    "# for i in range(30000):\n",
    "#     f.write(data_train[i]+ \"\\n\")\n",
    "# f.close()"
   ]
  },
  {
   "cell_type": "code",
   "execution_count": null,
   "metadata": {
    "id": "6YD0k6A-0pqX"
   },
   "outputs": [],
   "source": [
    "data_label = []\n",
    "for line in open(\"data_label.txt\"):\n",
    "    data_label.append(line.strip().lower())\n",
    "  # if k == 30000:\n",
    "  #   break"
   ]
  },
  {
   "cell_type": "code",
   "execution_count": null,
   "metadata": {
    "executionInfo": {
     "elapsed": 300,
     "status": "ok",
     "timestamp": 1636197895057,
     "user": {
      "displayName": "Anh Lê tuấn",
      "photoUrl": "https://lh3.googleusercontent.com/a/default-user=s64",
      "userId": "03904397481365204335"
     },
     "user_tz": -420
    },
    "id": "sGuiZFwR1Je3"
   },
   "outputs": [],
   "source": [
    "data_dev = []\n",
    "k= 0\n",
    "for line in open(\"data_dev.txt\", encoding=\"utf8\"):\n",
    "    k += 1\n",
    "    data_dev.append(word_tokenize(line.strip().lower()))\n",
    "    if k ==1000:\n",
    "        break\n"
   ]
  },
  {
   "cell_type": "code",
   "execution_count": null,
   "metadata": {
    "executionInfo": {
     "elapsed": 297,
     "status": "ok",
     "timestamp": 1636197897312,
     "user": {
      "displayName": "Anh Lê tuấn",
      "photoUrl": "https://lh3.googleusercontent.com/a/default-user=s64",
      "userId": "03904397481365204335"
     },
     "user_tz": -420
    },
    "id": "N42BUdYP2Zp1"
   },
   "outputs": [],
   "source": [
    "k= 0\n",
    "data_dev_label = []\n",
    "for line in open(\"data_dev_label.txt\", encoding=\"utf8\"):\n",
    "    k += 1\n",
    "    data_dev_label.append(line.strip().lower())\n",
    "    if k ==1000:\n",
    "        break"
   ]
  },
  {
   "cell_type": "code",
   "execution_count": null,
   "metadata": {
    "id": "YsnTbO5zajJK"
   },
   "outputs": [],
   "source": [
    "dev_label = [word_tokenize(seq) for seq in data_dev_label]\n",
    "max_l = 0\n",
    "for seg in dev_label:\n",
    "    if len(seg) > max_l:\n",
    "        max_l = len(seg)\n",
    "for i in range(len(dev_label)):\n",
    "    dev_label[i] = dev_label[i] + (max_l - len(dev_label[i]))*['0']\n",
    "    for j in range(len(dev_label[i])):\n",
    "        dev_label[i][j] = int(dev_label[i][j])\n",
    "dev_label = torch.Tensor(dev_label).cuda()"
   ]
  },
  {
   "cell_type": "code",
   "execution_count": null,
   "metadata": {
    "id": "bIA_-MO_2qQ5"
   },
   "outputs": [],
   "source": [
    "from torch.utils.data import DataLoader\n",
    "def length(data):\n",
    "    return torch.LongTensor([len(seq) for seq in data])\n",
    "batch_size = 64\n",
    "def collate_fn(batch):\n",
    "    data,label = zip(*batch)\n",
    "    y = [word_tokenize(seq) for seq in label]\n",
    "    max_l = 0\n",
    "    for seg in y:\n",
    "        if len(seg) > max_l:\n",
    "            max_l = len(seg)\n",
    "    for i in range(len(y)):\n",
    "        y[i] = y[i] + (max_l - len(y[i]))*['0']\n",
    "        for j in range(len(y[i])):\n",
    "            y[i][j] = int(y[i][j])\n",
    "    x = [word_tokenize(seq) for seq in data]\n",
    "    return x, torch.Tensor(y).cuda()"
   ]
  },
  {
   "cell_type": "code",
   "execution_count": null,
   "metadata": {
    "id": "yNVxShdA3ZWP"
   },
   "outputs": [],
   "source": [
    "learning_rate = 0.001\n",
    "optimizer = torch.optim.Adam(model.parameters(), lr=learning_rate)\n",
    "lossfunction = nn.BCELoss(reduction = \"sum\")"
   ]
  },
  {
   "cell_type": "code",
   "execution_count": null,
   "metadata": {
    "id": "03cBZ3vd6XcW"
   },
   "outputs": [],
   "source": [
    "lr_decay = 0.5\n",
    "epochs = 50\n",
    "model_save_path = \"model.bin\"\n",
    "patience = 0"
   ]
  },
  {
   "cell_type": "code",
   "execution_count": null,
   "metadata": {
    "colab": {
     "base_uri": "https://localhost:8080/",
     "height": 387
    },
    "executionInfo": {
     "elapsed": 1623163,
     "status": "error",
     "timestamp": 1636195832438,
     "user": {
      "displayName": "Anh Lê tuấn",
      "photoUrl": "https://lh3.googleusercontent.com/a/default-user=s64",
      "userId": "03904397481365204335"
     },
     "user_tz": -420
    },
    "id": "cqPZwizl8EQL",
    "outputId": "64410b5a-13e7-48b8-91a0-c732bca2ad48"
   },
   "outputs": [],
   "source": [
    "data = list(zip(data_train,data_label))\n",
    "loader = DataLoader(data, batch_size=batch_size, shuffle=True, collate_fn=collate_fn, drop_last = True )\n",
    "for epoch in range(epochs):\n",
    "    model.train()\n",
    "    total_loss = 0\n",
    "    for x, y in loader:\n",
    "        \n",
    "        optimizer.zero_grad()\n",
    "        \n",
    "        y_pred, lengths = model(x) \n",
    "        \n",
    "        loss = lossfunction(y_pred, y)/sum(lengths)\n",
    "        \n",
    "        loss.backward()\n",
    "        optimizer.step()\n",
    "        total_loss += loss\n",
    "    \n",
    "    # Early stop and decay lr\n",
    "    if epoch %2 ==0:\n",
    "        print(\"Loss: {:.2f}, epoch: {}\".format(total_loss, epoch))\n",
    "        model.eval()\n",
    "        with torch.no_grad():\n",
    "            y_dev_pred, length_dev = model(data_dev)\n",
    "            score = lossfunction(y_dev_pred, dev_label)/sum(length_dev)\n",
    "        if epoch == 0:\n",
    "            best_score = score\n",
    "            print(\"Save model with dev_f1_score = {:.2f}\".format(best_score))\n",
    "            model.save(model_save_path)\n",
    "        if score< best_score:\n",
    "            patience = 0\n",
    "            best_score = score\n",
    "            print(\"Save model with dev_f1_score = {:.2f}\".format(best_score))\n",
    "            model.save(model_save_path)\n",
    "            \n",
    "        else:\n",
    "            patience += 1\n",
    "        if patience == 3:\n",
    "            # decay lr, and restore from previously best checkpoint\n",
    "            lr = optimizer.param_groups[0]['lr'] * lr_decay\n",
    "            print('Load previously best model and decay learning rate to %f' % lr)\n",
    "            model = SC.load(model_save_path).cuda()\n",
    "            \n",
    "            optimizer = torch.optim.Adam(model.parameters(), lr=lr)\n",
    "            \n",
    "            # reset patience\n",
    "            patience = 0"
   ]
  },
  {
   "cell_type": "code",
   "execution_count": null,
   "metadata": {
    "id": "CGMZcXwFJRIh"
   },
   "outputs": [],
   "source": [
    "x = torch.Tensor([2,3])\n",
    "y = [2,3]\n",
    "x/sum(y)"
   ]
  }
 ],
 "metadata": {
  "colab": {
   "authorship_tag": "ABX9TyPqC+p7iJjlHY3qXPEYxuDJ",
   "collapsed_sections": [],
   "mount_file_id": "1hsTJfJgOX9pljdys8_swAvViLBbppN_C",
   "name": "Untitled0.ipynb",
   "provenance": []
  },
  "kernelspec": {
   "display_name": "Python 3",
   "language": "python",
   "name": "python3"
  },
  "language_info": {
   "codemirror_mode": {
    "name": "ipython",
    "version": 3
   },
   "file_extension": ".py",
   "mimetype": "text/x-python",
   "name": "python",
   "nbconvert_exporter": "python",
   "pygments_lexer": "ipython3",
   "version": "3.8.8"
  }
 },
 "nbformat": 4,
 "nbformat_minor": 1
}
